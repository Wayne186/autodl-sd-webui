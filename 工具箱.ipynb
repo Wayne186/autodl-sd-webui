{
 "cells": [
  {
   "cell_type": "markdown",
   "id": "5832f191-3328-43d7-a7fb-14f76998631c",
   "metadata": {
    "tags": []
   },
   "source": [
    "#### 请按需单独执行每个格子的代码\n",
    "有问题可以加微信交流群\n",
    "\n",
    "![](https://oss.talesofai.cn/public/qrcode_20230413-183818.png?cc0429)\n"
   ]
  },
  {
   "cell_type": "code",
   "execution_count": null,
   "id": "b616ca1c-8701-4323-b1f7-cacf318b187b",
   "metadata": {
    "tags": []
   },
   "outputs": [],
   "source": [
    "## 数据盘空间占用\n",
    "!du -h -d 2 /root/autodl-tmp"
   ]
  },
  {
   "cell_type": "code",
   "execution_count": null,
   "id": "a19f199b-0af2-4b5e-a86a-dd4e20c090c1",
   "metadata": {
    "tags": []
   },
   "outputs": [],
   "source": [
    "## 直接下载 civitai 模型\n",
    "## 记得先把 clash/config.yaml 替换为自己的，然后在下面杀掉 clash 并重启 webui\n",
    "## 记得替换下载链接\n",
    "\n",
    "!export https_proxy=http://127.0.0.1:7890 http_proxy=http://127.0.0.1:7890 && aria2c -d /root/autodl-tmp https://civitai.com/api/download/models/57618\n"
   ]
  },
  {
   "cell_type": "code",
   "execution_count": null,
   "id": "04c1d658-0041-4f05-bdab-0e30e9a6249e",
   "metadata": {
    "tags": []
   },
   "outputs": [],
   "source": [
    "## 杀掉 clash（启动 webui 的时候会自动启动 clash，这里只杀掉无法启动）\n",
    "!pkill clash"
   ]
  },
  {
   "cell_type": "code",
   "execution_count": null,
   "id": "d98d52fb-f98b-4626-b81a-aa899c5193d0",
   "metadata": {
    "tags": []
   },
   "outputs": [],
   "source": [
    "## 热修复\n",
    "!source /root/tzwm_sd_webui_scripts/scripts/init-proxy.sh global\n",
    "!cd /root/tzwm_sd_webui_scripts && git fetch origin && git reset --hard origin/main && bash hotfix/latest.sh"
   ]
  },
  {
   "cell_type": "code",
   "execution_count": null,
   "id": "af98b1eb-ef53-4563-b73a-94f143315ce4",
   "metadata": {},
   "outputs": [],
   "source": []
  }
 ],
 "metadata": {
  "kernelspec": {
   "display_name": "Python 3 (ipykernel)",
   "language": "python",
   "name": "python3"
  },
  "language_info": {
   "codemirror_mode": {
    "name": "ipython",
    "version": 3
   },
   "file_extension": ".py",
   "mimetype": "text/x-python",
   "name": "python",
   "nbconvert_exporter": "python",
   "pygments_lexer": "ipython3",
   "version": "3.10.6"
  }
 },
 "nbformat": 4,
 "nbformat_minor": 5
}
