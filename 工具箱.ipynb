{
 "cells": [
  {
   "cell_type": "markdown",
   "id": "5832f191-3328-43d7-a7fb-14f76998631c",
   "metadata": {
    "tags": []
   },
   "source": [
    "#### 请按需单独执行每个格子的代码\n",
    "有问题可以加微信交流群\n",
    "\n",
    "![](https://oss.talesofai.cn/public/qrcode_20230413-183818.png?cc0429)\n"
   ]
  },
  {
   "cell_type": "code",
   "execution_count": null,
   "id": "b616ca1c-8701-4323-b1f7-cacf318b187b",
   "metadata": {
    "tags": []
   },
   "outputs": [],
   "source": [
    "## 数据盘空间占用\n",
    "!du -h -d 2 /root/autodl-tmp"
   ]
  },
  {
   "cell_type": "code",
   "execution_count": null,
   "id": "a19f199b-0af2-4b5e-a86a-dd4e20c090c1",
   "metadata": {},
   "outputs": [],
   "source": []
  }
 ],
 "metadata": {
  "kernelspec": {
   "display_name": "Python 3 (ipykernel)",
   "language": "python",
   "name": "python3"
  },
  "language_info": {
   "codemirror_mode": {
    "name": "ipython",
    "version": 3
   },
   "file_extension": ".py",
   "mimetype": "text/x-python",
   "name": "python",
   "nbconvert_exporter": "python",
   "pygments_lexer": "ipython3",
   "version": "3.10.6"
  }
 },
 "nbformat": 4,
 "nbformat_minor": 5
}
