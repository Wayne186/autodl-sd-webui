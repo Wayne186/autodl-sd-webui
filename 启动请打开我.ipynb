{
 "cells": [
  {
   "cell_type": "markdown",
   "id": "61d904fe-155a-473f-8ab7-abb96f248f5d",
   "metadata": {
    "tags": []
   },
   "source": [
    "## 说明\n",
    "\n",
    "![](https://oss.talesofai.cn/public/s_2023-04-13%20at%2022.28.22.png)\n",
    "- 启动和重启 webui 点上方工具栏中的「重启并运行所有单元格」。出现 `http://127.0.0.1:6006` 这个字样就算成功了。可以去 autodl 控制台打开「自定义服务」了。出现「OSError: [Errno 98] Address already in use」，就再点一次\n",
    "- 镜像在 A5000, 3090, 3080 上测试没问题\n",
    "- 下载模型可以本地下载好后，上传到 `~/autodl-tmp/models` 里的对应目录下。通过左边的文件管理就可以进入并上传\n",
    "\n",
    "## 功能介绍\n",
    "\n",
    "- Stable Diffusion\\[cf1d67a1\\]\\[2023-03-25\\] + xformers 0.0.16rc425\n",
    "- ControlNet 插件 + 常用的 depth、openpose、canny、hed、normap_map、scribble 这几个 model\n",
    "- 常用的插件，包括 tagcomplete、image browser、system-info、two shot、regional prompter、civitai helper\n",
    "- 包含最新的汉化包\n",
    "- 包含一个常用的 VAE\n",
    "- 调整了 model 目录，用数据盘来存放各种 model 防止很快就空间不足\n",
    "- 调整了默认配置，支持 multiple ControlNet、增加了 ControlNet 缓存 model 数量等\n",
    "\n",
    "## 有问题请联系\n",
    "\n",
    "- Email：autodl_share@tzwm.me\n",
    "- GitHub: https://github.com/tzwm\n",
    "- QQ 频道：t0o1vs01m0\n",
    "- 微信群：\n",
    "\n",
    "![](https://oss.talesofai.cn/public/qrcode_20230413-183818.png)\n",
    "\n",
    "\n",
    "## ChangeLog\n",
    "\n",
    "- 20230413 第一版制作完成"
   ]
  },
  {
   "cell_type": "code",
   "execution_count": null,
   "id": "d09e6df8-aea3-46ad-8f3f-3b5670fbdbcd",
   "metadata": {},
   "outputs": [],
   "source": [
    "!pgrep -f 'webui.*.sh' | head -n 1 | xargs kill\n",
    "\n",
    "!echo \"重启中，需要等待几秒……\"\n",
    "!sleep 3\n",
    "\n",
    "!cd /root/stable-diffusion-webui && ./webui.sh"
   ]
  },
  {
   "cell_type": "code",
   "execution_count": null,
   "id": "e1bccb7d-b567-4652-9b44-bd8864531885",
   "metadata": {},
   "outputs": [],
   "source": []
  }
 ],
 "metadata": {
  "kernelspec": {
   "display_name": "Python 3 (ipykernel)",
   "language": "python",
   "name": "python3"
  },
  "language_info": {
   "codemirror_mode": {
    "name": "ipython",
    "version": 3
   },
   "file_extension": ".py",
   "mimetype": "text/x-python",
   "name": "python",
   "nbconvert_exporter": "python",
   "pygments_lexer": "ipython3",
   "version": "3.8.10"
  }
 },
 "nbformat": 4,
 "nbformat_minor": 5
}
