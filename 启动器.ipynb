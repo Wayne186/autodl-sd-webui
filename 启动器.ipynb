{
 "cells": [
  {
   "cell_type": "markdown",
   "id": "61d904fe-155a-473f-8ab7-abb96f248f5d",
   "metadata": {
    "tags": []
   },
   "source": [
    "## 说明\n",
    "\n",
    "![](https://oss.talesofai.cn/public/s_2023-04-13%20at%2022.28.22.png?cc0429)\n",
    "- 启动和重启 webui 点上方工具栏中的「重启并运行所有单元格」。出现 `http://127.0.0.1:6006` 这个字样就算成功了。可以去 autodl 控制台打开「自定义服务」了。出现「OSError: Port 6006 is in use」，就再点一次\n",
    "- 首次启动需要下载基本的模型，请稍等几分钟\n",
    "- 镜像在 A5000, 3090, 3080 上测试没问题\n",
    "- 下载模型可以本地下载好后，上传到 `~/autodl-tmp/models` 里的对应目录下。通过左边的文件管理就可以进入并上传\n",
    "- 重启可以直接在 webui 界面上重启\n",
    "\n",
    "## 功能介绍\n",
    "\n",
    "- AUTOMATIC1111/stable-diffusion-webui \\[v1.2.1 2023-05-14\\]\n",
    "- Python 3.10.6 + Torch 2.0.0 + cuda 11.8 + xformers 0.0.17\n",
    "- ControlNet v1.1 所有 model\n",
    "- 常用功能的 model 都已经下载好，包括各种 upscale、controlnet Preprocessor、CLIP 等\n",
    "- 常用的插件，包括 tagcomplete、image browser、system-info、two shot、regional prompter、a1111-sd-webui-lycoris、sd-webui-lora-block-weight\n",
    "- 包含炼丹常用插件，dreambooth、tagger、Dataset Tag Editor、Train Tools\n",
    "- 包含一个常用的 VAE\n",
    "- 调整了 model 目录，用数据盘来存放各种 model 防止很快就空间不足\n",
    "- git 配置了学术资源加速\n",
    "- 调整了默认配置，支持 multiple ControlNet、增加了 ControlNet 缓存 model 数量等\n",
    "\n",
    "## 有问题请联系\n",
    "\n",
    "- Email：autodl_share@tzwm.me\n",
    "- GitHub: https://github.com/tzwm/autodl-sd-webui\n",
    "- 微信群：\n",
    "\n",
    "![](https://oss.talesofai.cn/public/qrcode_20230413-183818.png?cc0429)\n",
    "\n",
    "\n",
    "## ChangeLog\n",
    "\n",
    "- 20230522 第四版完成(v6)\n",
    "  - 新增炼丹相关插件，包括 dreambooth、tagger、Dataset Tag Editor、Train Tools\n",
    "  - 新增 Segment Anything + GroundingDINO，包含相关模型\n",
    "  - 新增 a1111-sd-webui-lycoris、sd-webui-lora-block-weight 这两个实用插件\n",
    "  - 新增 all in one 插件，方便 prompt 编辑，默认没有开启这个插件，可以去插件列表开启\n",
    "  - 修复 CLIP 不能用的问题。之前不能用是因为有新版本模型，导致使用的时候没有用我预置的旧模型而直接下载了，然后下载又特别慢\n",
    "  - 更新 controlnet，增加了 reference 预处理器\n",
    "  - clash 更方便支持自定义 config、补了下佛山区的代理配置\n",
    "  \n",
    "- 20230507 第三版完成(v5)\n",
    "  - A1111 版本更新，升级 python, torch 等版本，换上 controlnet v1.1，一些细节优化\n",
    "- 20230429 第二版完成\n",
    "  - 换成 vlad webui，换上了 controlnet v1.1，更新了模型下载方式等\n",
    "- 20230413 第一版"
   ]
  },
  {
   "cell_type": "code",
   "execution_count": null,
   "id": "d09e6df8-aea3-46ad-8f3f-3b5670fbdbcd",
   "metadata": {},
   "outputs": [],
   "source": [
    "# 初始化\n",
    "!bash /root/tzwm_sd_webui_scripts/scripts/init-download.sh\n",
    "#!source /root/tzwm_sd_webui_scripts/scripts/init-proxy.sh"
   ]
  },
  {
   "cell_type": "code",
   "execution_count": null,
   "id": "e1bccb7d-b567-4652-9b44-bd8864531885",
   "metadata": {
    "tags": []
   },
   "outputs": [],
   "source": [
    "# 启动\n",
    "!source /root/tzwm_sd_webui_scripts/scripts/init-proxy.sh global && \\\n",
    "bash /root/tzwm_sd_webui_scripts/scripts/restart-webui.sh"
   ]
  },
  {
   "cell_type": "code",
   "execution_count": null,
   "id": "9f4c30c3-2bdc-4920-b88d-051abab3fcda",
   "metadata": {},
   "outputs": [],
   "source": []
  }
 ],
 "metadata": {
  "kernelspec": {
   "display_name": "Python 3 (ipykernel)",
   "language": "python",
   "name": "python3"
  },
  "language_info": {
   "codemirror_mode": {
    "name": "ipython",
    "version": 3
   },
   "file_extension": ".py",
   "mimetype": "text/x-python",
   "name": "python",
   "nbconvert_exporter": "python",
   "pygments_lexer": "ipython3",
   "version": "3.10.6"
  }
 },
 "nbformat": 4,
 "nbformat_minor": 5
}
