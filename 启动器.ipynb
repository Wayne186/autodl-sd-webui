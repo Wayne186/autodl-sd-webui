{
 "cells": [
  {
   "cell_type": "markdown",
   "id": "61d904fe-155a-473f-8ab7-abb96f248f5d",
   "metadata": {
    "tags": []
   },
   "source": [
    "## 说明\n",
    "\n",
    "![](https://oss.talesofai.cn/public/s_2023-04-13%20at%2022.28.22.png?cc0429)\n",
    "- 启动和重启 webui 点上方工具栏中的「重启并运行所有单元格」。出现 `http://127.0.0.1:6006` 这个字样就算成功了。可以去 autodl 控制台打开「自定义服务」了。出现「OSError: Port 6006 is in use」，就再点一次\n",
    "- 首次启动需要下载基本的模型，请稍等几分钟\n",
    "- 镜像在 A5000, 3090, 3080 上测试没问题\n",
    "- 下载模型可以本地下载好后，上传到 `~/autodl-tmp/models` 里的对应目录下。通过左边的文件管理就可以进入并上传\n",
    "\n",
    "## 功能介绍\n",
    "\n",
    "- vladmandic/automatic \\[2023-04-25\\]\n",
    "- Python 3.10.0 + Torch 2.0.0 + cuda 11.8 + sdp\n",
    "- ControlNet v1.1 所有 model\n",
    "- 常用的插件，包括 tagcomplete、image browser、system-info、two shot、regional prompter\n",
    "- 包含一个常用的 VAE\n",
    "- 调整了 model 目录，用数据盘来存放各种 model 防止很快就空间不足\n",
    "- 调整了默认配置，支持 multiple ControlNet、增加了 ControlNet 缓存 model 数量等\n",
    "\n",
    "## 有问题请联系\n",
    "\n",
    "- Email：autodl_share@tzwm.me\n",
    "- GitHub: https://github.com/tzwm\n",
    "- 微信群：\n",
    "\n",
    "![](https://oss.talesofai.cn/public/qrcode_20230413-183818.png?cc0429)\n",
    "\n",
    "\n",
    "## ChangeLog\n",
    "\n",
    "- 20230429 第二版完成\n",
    "  - 换成 vlad webui，换上了 controlnet v1.1，更新了模型下载方式等\n",
    "- 20230413 第一版"
   ]
  },
  {
   "cell_type": "code",
   "execution_count": null,
   "id": "d09e6df8-aea3-46ad-8f3f-3b5670fbdbcd",
   "metadata": {},
   "outputs": [
    {
     "name": "stdout",
     "output_type": "stream",
     "text": [
      "重启中，需要等待几秒……\n",
      ">>> download to  /root/autodl-tmp/models/StableDiffusion-checkpoints\n",
      "downloading file [StableDiffusion-checkpoints/anything-v4.5-pruned-fp16.ckpt]\n",
      "do error Post \"http://192.168.1.10:8090/api/v1/agent/cg_tool/file_download/tmp_progress\": http: ContentLength=622 with Body length 0\n"
     ]
    }
   ],
   "source": [
    "!pgrep -f 'launch.py' | head -n 1 | xargs kill\n",
    "\n",
    "!echo \"重启中，需要等待几秒……\"\n",
    "!sleep 4\n",
    "\n",
    "!/root/scripts/init-download.sh\n",
    "!/root/scripts/init-config.sh\n",
    "!/root/scripts/start_webui.sh"
   ]
  },
  {
   "cell_type": "code",
   "execution_count": null,
   "id": "e1bccb7d-b567-4652-9b44-bd8864531885",
   "metadata": {},
   "outputs": [],
   "source": []
  }
 ],
 "metadata": {
  "kernelspec": {
   "display_name": "Python 3 (ipykernel)",
   "language": "python",
   "name": "python3"
  },
  "language_info": {
   "codemirror_mode": {
    "name": "ipython",
    "version": 3
   },
   "file_extension": ".py",
   "mimetype": "text/x-python",
   "name": "python",
   "nbconvert_exporter": "python",
   "pygments_lexer": "ipython3",
   "version": "3.10.0"
  }
 },
 "nbformat": 4,
 "nbformat_minor": 5
}
