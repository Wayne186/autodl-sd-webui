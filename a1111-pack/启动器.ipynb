{
 "cells": [
  {
   "cell_type": "markdown",
   "id": "61d904fe-155a-473f-8ab7-abb96f248f5d",
   "metadata": {
    "tags": []
   },
   "source": [
    "## 说明\n",
    "\n",
    "> 不想看下面文字就看视频说明，至少看一个吧，可以少些问题: https://www.bilibili.com/video/BV1yj411m7EH/\n",
    "\n",
    "![](https://oss.talesofai.cn/public/s_2023-04-13%20at%2022.28.22.png?cc0429)\n",
    "- 启动和重启 webui 点上方工具栏中的「重启并运行所有单元格」。出现 `http://127.0.0.1:6006` 这个字样就算成功了。可以去 autodl 控制台打开「自定义服务」了\n",
    "- 首次启动需要下载基本的模型，请稍等几分钟\n",
    "- 镜像在 A5000, 3090, 3080 上测试没问题\n",
    "- 模型路径：`/root/autodl-tmp/models` 里的对应目录下\n",
    "  - 建议通过预置的「模型下载」插件直接下载 civitai 模型会比较快\n",
    "  - 也可以自己上传模型到上述目录\n",
    "- 插件只默认开启了部分，有需要可以自行去开启并重启即可\n",
    "![](https://files.tzwm.me/images/2023/07/20230702154554.webp)\n",
    "\n",
    "## 功能介绍\n",
    "\n",
    "- AUTOMATIC1111/stable-diffusion-webui \\[v1.4.0 2023-06-27\\]\n",
    "- Python 3.10.6 + Torch 2.0.1 + cuda 11.8 + xformers 0.0.20\n",
    "- ControlNet v1.1 所有模型和预处理器\n",
    "- 常用功能的 model 都已经下载好，包括各种 upscaler、CLIP、tagger、segment anything、deforum 等\n",
    "- 常用的插件，包括 roop、segment anything、all in one、tagcomplete、image browser、system-info、two shot、regional prompter、a1111-sd-webui-lycoris、sd-webui-lora-block-weight、multidiffusion-upscaler、deforum\n",
    "- 包含一个常用的 VAE、embedding 和 LoRA\n",
    "- 调整了 model 目录，用数据盘来存放各种 model 防止很快就空间不足\n",
    "- git 配置了学术资源加速\n",
    "- 调整了默认配置，支持 multiple ControlNet、增加了 ControlNet 缓存 model 数量等\n",
    "\n",
    "## 有问题请联系\n",
    "\n",
    "- Email：autodl_share@tzwm.me\n",
    "- GitHub: https://github.com/tzwm/autodl-sd-webui\n",
    "- sd webui 微信交流讨论群：\n",
    "\n",
    "![](https://oss.talesofai.cn/public/qrcode_20230413-183818.png?cc0429)\n",
    "\n",
    "\n",
    "## ChangeLog\n",
    "\n",
    "- 20230702 v5.0 (v11)\n",
    "  - webui 升级到 1.4.0，对应依赖库也升级\n",
    "  - 调整了插件，默认不开启全部插件了\n",
    "  - 学术加速的加载更新成了 autodl 最新的\n",
    "  - 其他一些小优化\n",
    "- 20230528 v4.2 (v10)\n",
    "  - 替换 anything v4.5 到 anything v5.0 正版\n",
    "  - 工具箱增加了一些常用执行，包括热修复功能（后续总算可以不用频繁发镜像了）\n",
    "  - 修复了西北区的网络问题\n",
    "- 20230525 v4.1 (v9)\n",
    "  - 替换 controlnet 1.1 模型为 fp16 版本，空间利用和使用速度都有提升\n",
    "  - 修复 CLIP 等模型的 cache 问题\n",
    "  - 修复了界面总是断连的问题，因此去除了 train-tools 插件\n",
    "  - 默认安装了 aria2\n",
    "- 20230525 v4.0 (v8)\n",
    "  - 新增炼丹相关插件，包括 dreambooth、Dataset Tag Editor、Train Tools\n",
    "  - 新增 Segment Anything + GroundingDINO，包含相关模型\n",
    "  - 新增 tagger、a1111-sd-webui-lycoris、sd-webui-lora-block-weight、ultimate-upscale、all in one、deforum 这六个实用插件\n",
    "  - 更新 controlnet，预置了所有预处理器包含新的 reference\n",
    "  - clash 更方便支持自定义 config、补了下佛山区的代理配置\n",
    "  - 修复之前部分插件安装问题\n",
    "- 20230507 v3.0 (v5)\n",
    "  - A1111 版本更新，升级 python, torch 等版本，换上 controlnet v1.1，一些细节优化\n",
    "- 20230429 v2.0\n",
    "  - 换成 vlad webui，换上了 controlnet v1.1，更新了模型下载方式等\n",
    "- 20230413 v1.0"
   ]
  },
  {
   "cell_type": "code",
   "execution_count": null,
   "id": "d09e6df8-aea3-46ad-8f3f-3b5670fbdbcd",
   "metadata": {},
   "outputs": [],
   "source": [
    "# 初始化\n",
    "!bash /root/tzwm-autodl-sd-webui/common/scripts/init-download.sh"
   ]
  },
  {
   "cell_type": "code",
   "execution_count": null,
   "id": "e1bccb7d-b567-4652-9b44-bd8864531885",
   "metadata": {
    "tags": []
   },
   "outputs": [],
   "source": [
    "# 启动\n",
    "!source /root/tzwm-autodl-sd-webui/common/scripts/init-proxy.sh global && \\\n",
    "bash /root/tzwm-autodl-sd-webui/a1111-pack/scripts/restart-webui.sh"
   ]
  }
 ],
 "metadata": {
  "kernelspec": {
   "display_name": "Python 3 (ipykernel)",
   "language": "python",
   "name": "python3"
  },
  "language_info": {
   "codemirror_mode": {
    "name": "ipython",
    "version": 3
   },
   "file_extension": ".py",
   "mimetype": "text/x-python",
   "name": "python",
   "nbconvert_exporter": "python",
   "pygments_lexer": "ipython3",
   "version": "3.10.6"
  }
 },
 "nbformat": 4,
 "nbformat_minor": 5
}
