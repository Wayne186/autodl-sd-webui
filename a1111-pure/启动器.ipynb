{
 "cells": [
  {
   "cell_type": "markdown",
   "id": "61d904fe-155a-473f-8ab7-abb96f248f5d",
   "metadata": {
    "tags": []
   },
   "source": [
    "## 说明\n",
    "\n",
    "![](https://oss.talesofai.cn/public/s_2023-04-13%20at%2022.28.22.png?cc0429)\n",
    "- 启动和重启 webui 点上方工具栏中的「重启并运行所有单元格」。出现 `http://127.0.0.1:6006` 这个字样就算成功了。可以去 autodl 控制台打开「自定义服务」了。出现「OSError: Port 6006 is in use」，就再点一次\n",
    "- 首次启动需要下载基本的模型，请稍等几分钟\n",
    "- 镜像在 A5000, 3090, 3080 上测试没问题\n",
    "- 下载模型可以本地下载好后，上传到 `~/autodl-tmp/models` 里的对应目录下。通过左边的文件管理就可以进入并上传\n",
    "- 重启可以直接在 webui 界面上重启\n",
    "\n",
    "## 纯净版功能介绍\n",
    "\n",
    "- AUTOMATIC1111/stable-diffusion-webui \\[v1.4.0 2023-06-27\\]\n",
    "- Python 3.10.6 + Torch 2.0.1 + cuda 11.8 + xformers 0.0.20\n",
    "- ControlNet v1.1 所有 model\n",
    "- 常用功能的 model 都已经下载好，包括各种 upscale、controlnet Preprocessor、CLIP 等\n",
    "- 包含一个常用的 VAE\n",
    "- 调整了 model 目录，用数据盘来存放各种 model 防止很快就空间不足\n",
    "- 配置了学术资源加速，可以自助安装插件等\n",
    "- 调整了默认配置，支持 multiple ControlNet、增加了 ControlNet 缓存 model 数量等\n",
    "- 只装了最基本的插件，没有环境污染，启动迅速、使用稳定\n",
    "\n",
    "## 有问题请联系\n",
    "\n",
    "- Email：autodl_share@tzwm.me\n",
    "- GitHub: https://github.com/tzwm/autodl-sd-webui\n",
    "- sd webui 微信交流讨论群：\n",
    "\n",
    "![](https://oss.talesofai.cn/public/qrcode_20230413-183818.png?cc0429)\n",
    "\n",
    "\n",
    "## ChangeLog\n",
    "\n",
    "- 2023-06-28 v1\n",
    "  - 基本环境和配置弄好，干净"
   ]
  },
  {
   "cell_type": "code",
   "execution_count": null,
   "id": "d09e6df8-aea3-46ad-8f3f-3b5670fbdbcd",
   "metadata": {},
   "outputs": [],
   "source": [
    "# 初始化\n",
    "!bash /root/tzwm-autodl-sd-webui/common/scripts/init-download.sh"
   ]
  },
  {
   "cell_type": "code",
   "execution_count": null,
   "id": "e1bccb7d-b567-4652-9b44-bd8864531885",
   "metadata": {
    "tags": []
   },
   "outputs": [],
   "source": [
    "# 启动\n",
    "!source /root/tzwm-autodl-sd-webui/common/scripts/init-proxy.sh global && \\\n",
    "bash /root/tzwm-autodl-sd-webui/a1111-pure/scripts/restart-webui.sh"
   ]
  }
 ],
 "metadata": {
  "kernelspec": {
   "display_name": "Python 3 (ipykernel)",
   "language": "python",
   "name": "python3"
  },
  "language_info": {
   "codemirror_mode": {
    "name": "ipython",
    "version": 3
   },
   "file_extension": ".py",
   "mimetype": "text/x-python",
   "name": "python",
   "nbconvert_exporter": "python",
   "pygments_lexer": "ipython3",
   "version": "3.10.6"
  }
 },
 "nbformat": 4,
 "nbformat_minor": 5
}
