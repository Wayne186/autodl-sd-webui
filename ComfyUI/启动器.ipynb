{
 "cells": [
  {
   "cell_type": "markdown",
   "id": "01f19ac5-41e3-4f66-bf18-14ec6c540d6d",
   "metadata": {},
   "source": [
    "## 说明\n",
    "\n",
    "![](https://oss.talesofai.cn/public/s_2023-04-13%20at%2022.28.22.png?cc0429)\n",
    "- 启动和重启 webui 点上方工具栏中的「重启并运行所有单元格」。出现 `http://0.0.0.0:6006` 这个字样就算成功了。可以去 autodl 控制台打开「自定义服务」了\n",
    "- 首次启动需要下载基本的模型，请稍等几分钟\n",
    "- 镜像在 A5000, 3090, 3080 上测试没问题\n",
    "- 模型路径：`/root/autodl-tmp/models` 里的对应目录下\n",
    "- 生成文件路径：`/root/autodl-tmp/outputs`\n",
    "\n",
    "## 功能介绍\n",
    "\n",
    "- ComfyUI 20230903 最新版本\n",
    "- 预置 SDXL base、refiner 和 vae 模型\n",
    "- 预置所有 ControlnetNet v1.1 模型\n",
    "- 调整了 model 目录，用数据盘来存放各种 model 防止很快就空间不足\n",
    "\n",
    "## 有问题请联系\n",
    "\n",
    "- Email：autodl_share@tzwm.me\n",
    "- GitHub: https://github.com/tzwm/autodl-sd-webui\n",
    "- sd webui 微信交流讨论群：\n",
    "\n",
    "![](https://oss.talesofai.cn/public/qrcode_20230413-183818.png?cc0429)\n",
    "\n",
    "\n",
    "## ChangeLog\n",
    "\n",
    "- 20230903 v1.1 (v2)\n",
    "  - 增加 ComfyUI-Manager 插件管理器\n",
    "  - 调整模型路径和初始化脚本\n",
    "  - 调整启动参数以支持 CG 本地使用\n",
    "- 20230729 v1.0 (v1)\n",
    "  - 基本功能搞定，支持 SDXL"
   ]
  },
  {
   "cell_type": "code",
   "execution_count": null,
   "id": "1e92188e-2325-4d48-8f17-5f56bc630418",
   "metadata": {},
   "outputs": [],
   "source": [
    "# 初始化\n",
    "!bash /root/tzwm-autodl/common/scripts/init-download.sh checkpoint\n",
    "!bash /root/tzwm-autodl/common/scripts/init-download.sh vae\n",
    "!bash /root/tzwm-autodl/common/scripts/init-download.sh lora\n",
    "!bash /root/tzwm-autodl/common/scripts/init-download.sh embeddings\n",
    "!bash /root/tzwm-autodl/common/scripts/init-download.sh controlnet\n",
    "# !bash /root/tzwm-autodl/common/scripts/init-download.sh controlnet_annotator\n",
    "!bash /root/tzwm-autodl/common/scripts/download-sdxl.sh"
   ]
  },
  {
   "cell_type": "code",
   "execution_count": null,
   "id": "eda24573-1fab-4725-8710-6ee6a3a0f06c",
   "metadata": {},
   "outputs": [],
   "source": [
    "# 启动\n",
    "!bash /root/tzwm-autodl/ComfyUI/scripts/start.sh"
   ]
  },
  {
   "cell_type": "markdown",
   "id": "438aa44d-cc73-47ab-b966-24c2ae66bac1",
   "metadata": {},
   "source": [
    "#### 感觉打赏奶粉钱，左边家属的微信，右边我的支付宝\n",
    "![](https://oss.talesofai.cn/internal/image_hosting/1bccec6e0581d12ca39e6c7449db9a74b2f92a7cd53ee237e107865dbe5468ef.png?x-oss-process=image/resize,w_640)"
   ]
  }
 ],
 "metadata": {
  "kernelspec": {
   "display_name": "Python 3 (ipykernel)",
   "language": "python",
   "name": "python3"
  },
  "language_info": {
   "codemirror_mode": {
    "name": "ipython",
    "version": 3
   },
   "file_extension": ".py",
   "mimetype": "text/x-python",
   "name": "python",
   "nbconvert_exporter": "python",
   "pygments_lexer": "ipython3",
   "version": "3.8.10"
  }
 },
 "nbformat": 4,
 "nbformat_minor": 5
}
