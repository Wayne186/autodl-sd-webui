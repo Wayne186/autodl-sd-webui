{
 "cells": [
  {
   "cell_type": "markdown",
   "id": "b224d9d1-3fcb-4896-82f5-0ca271376f1f",
   "metadata": {
    "tags": []
   },
   "source": [
    "## 说明\n",
    "\n",
    "![](https://oss.talesofai.cn/public/s_2023-04-13%20at%2022.28.22.png?cc0429)\n",
    "- 启动和重启 webui 点上方工具栏中的「重启并运行所有单元格」。出现 `http://127.0.0.1:6006` 这个字样就算成功了。可以去 autodl 控制台打开「自定义服务」了\n",
    "- 建议使用 musicgen-melody 这个模型\n",
    "\n",
    "## 功能介绍\n",
    "\n",
    "- [AudioCraft](https://github.com/facebookresearch/audiocraft) 文字生成音乐\n",
    "- 预置 musicgen-melody 模型，可以上传一个曲子结合提示词来生成\n",
    "- 预置 musicgen-medium 和 musicgen-small 模型\n",
    "\n",
    "## 有问题请联系\n",
    "\n",
    "- Email：autodl_share@tzwm.me\n",
    "- GitHub: https://github.com/tzwm/autodl-sd-webui\n",
    "- 微信交流讨论群：\n",
    "\n",
    "![](https://oss.talesofai.cn/public/qrcode_20230413-183818.png?cc0429)\n",
    "\n",
    "\n",
    "## ChangeLog\n",
    "\n",
    "- 20230825 v1.0 (v1)\n",
    "  - 基本环境和模型弄好\n",
    " "
   ]
  },
  {
   "cell_type": "code",
   "execution_count": null,
   "id": "ec38e89a-2022-49a3-998d-ec1ba64adfac",
   "metadata": {
    "tags": []
   },
   "outputs": [],
   "source": [
    "## 初始化\n",
    "!bash /root/tzwm-autodl-share/audiocraft/scripts/init.sh"
   ]
  },
  {
   "cell_type": "code",
   "execution_count": null,
   "id": "f33531fa-0f15-4cf6-89f2-80b31f889e77",
   "metadata": {
    "tags": []
   },
   "outputs": [],
   "source": [
    "## 启动\n",
    "!source /etc/network_turbo && cd audiocraft && python -m demos.musicgen_app --server_port 6006"
   ]
  }
 ],
 "metadata": {
  "kernelspec": {
   "display_name": "Python 3 (ipykernel)",
   "language": "python",
   "name": "python3"
  },
  "language_info": {
   "codemirror_mode": {
    "name": "ipython",
    "version": 3
   },
   "file_extension": ".py",
   "mimetype": "text/x-python",
   "name": "python",
   "nbconvert_exporter": "python",
   "pygments_lexer": "ipython3",
   "version": "3.8.10"
  }
 },
 "nbformat": 4,
 "nbformat_minor": 5
}
